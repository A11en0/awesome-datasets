{
 "cells": [
  {
   "cell_type": "code",
   "execution_count": 79,
   "id": "ab04cc4b",
   "metadata": {},
   "outputs": [],
   "source": [
    "from scipy.io import arff\n",
    "import scipy.io as sio\n",
    "from io import StringIO\n",
    "import numpy as np"
   ]
  },
  {
   "cell_type": "code",
   "execution_count": 88,
   "id": "292977aa",
   "metadata": {},
   "outputs": [],
   "source": [
    "def arff2mat(src, dst):\n",
    "    f = open(src)\n",
    "    f = f.read()\n",
    "    f = StringIO(f)\n",
    "    data, meta = arff.loadarff(f)\n",
    "\n",
    "    final = []\n",
    "    for i in range(len(data)):\n",
    "        now = []\n",
    "        for j in range(26):\n",
    "            now.append(data[i][j])\n",
    "        final.append(now)\n",
    "    final=np.array(final)\n",
    "    final=final.astype(float)\n",
    "    sio.savemat(dst, {'data': final})  "
   ]
  },
  {
   "cell_type": "code",
   "execution_count": 89,
   "id": "d5c82bf0",
   "metadata": {},
   "outputs": [],
   "source": [
    "flist = ['flags.arff', 'flags-train.arff', 'flags-test.arff']\n",
    "for src in flist:\n",
    "    dst = src.split('.')[0] + '.mat'\n",
    "    arff2mat(src, dst)"
   ]
  }
 ],
 "metadata": {
  "kernelspec": {
   "display_name": "nlp",
   "language": "python",
   "name": "nlp"
  },
  "language_info": {
   "codemirror_mode": {
    "name": "ipython",
    "version": 3
   },
   "file_extension": ".py",
   "mimetype": "text/x-python",
   "name": "python",
   "nbconvert_exporter": "python",
   "pygments_lexer": "ipython3",
   "version": "3.7.0"
  }
 },
 "nbformat": 4,
 "nbformat_minor": 5
}
